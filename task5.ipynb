{
 "cells": [
  {
   "cell_type": "markdown",
   "metadata": {},
   "source": [
    "### <a href=\"https://miptstats.github.io/courses/ad_fivt.html\">Введение в анализ данных</a>\n",
    "## Домашнее задание 5. Вероятность. \n"
   ]
  },
  {
   "cell_type": "markdown",
   "metadata": {},
   "source": [
    "**Правила, <font color=\"red\">прочитайте внимательно</font>:**\n",
    "\n",
    "\n",
    "* Выполненную работу нужно отправить телеграм-боту `@miptstats_ds23_bot`. Для начала работы с ботом каждый раз отправляйте `/start`. Дождитесь подтверждения от бота, что он принял файл. Если подтверждения нет, то что-то не так. **Работы, присланные иным способом, не принимаются.**\n",
    "* Дедлайн см. в боте. После дедлайна работы не принимаются кроме случаев наличия уважительной причины.\n",
    "* Прислать нужно **ноутбук в формате `ipynb`**. Если вы строите интерактивные графики, их стоит прислать в формате html.\n",
    "* Следите за размером файлов. **Бот не может принимать файлы весом более 20 Мб.** Если файл получается больше, заранее разделите его на несколько.\n",
    "* Выполнять задание необходимо полностью самостоятельно. **При обнаружении списывания все участники списывания будут сдавать устный зачет.**\n",
    "* Решения, размещенные на каких-либо интернет-ресурсах, не принимаются. Кроме того, публикация решения в открытом доступе может быть приравнена к предоставлении возможности списать.\n",
    "* Для выполнения задания используйте этот ноутбук в качестве основы, ничего не удаляя из него. Можно добавлять необходимое количество ячеек.\n",
    "* Комментарии к решению пишите в markdown-ячейках.\n",
    "* Выполнение задания (ход решения, выводы и пр.) должно быть осуществлено на русском языке.\n",
    "* Если код будет не понятен проверяющему, оценка может быть снижена.\n",
    "* Никакой код из данного задания при проверке запускаться не будет. *Если код студента не выполнен, недописан и т.д., то он не оценивается.*\n",
    "* **Код из рассказанных на занятиях ноутбуков** можно использовать без ограничений.\n",
    "\n",
    "---\n",
    "\n",
    "\n",
    "**Баллы за задание:**\n",
    "\n",
    "<b><font color=\"blue\">Легкая часть</font></b> (достаточно на \"хор\"):\n",
    "* Задача 1 &mdash; 35 баллов за контест и 5 баллов за ноутбук\n",
    "* Задача 2 &mdash; 20 баллов\n",
    "\n",
    "<b><font color=\"orange\">Сложная часть</font></b> (необходимо на \"отл\"):\n",
    "* Задача 3 &mdash; 40 баллов"
   ]
  },
  {
   "cell_type": "code",
   "execution_count": 2,
   "metadata": {},
   "outputs": [],
   "source": [
    "# Bot check\n",
    "\n",
    "# HW_ID: fpmi_ad5\n",
    "# Бот проверит этот ID и предупредит, если случайно сдать что-то не то.\n",
    "\n",
    "# Status: not final\n",
    "# Перед отправкой в финальном решении удали \"not\" в строчке выше.\n",
    "# Так бот проверит, что ты отправляешь финальную версию, а не промежуточную.\n",
    "# Никакие значения в этой ячейке не влияют на факт сдачи работы."
   ]
  },
  {
   "cell_type": "code",
   "execution_count": 1,
   "metadata": {},
   "outputs": [],
   "source": [
    "import numpy as np\n",
    "import pandas as pd\n",
    "import matplotlib.pyplot as plt\n",
    "import seaborn as sns\n",
    "\n",
    "sns.set(style='whitegrid', font_scale=1.3, palette='Set2')\n",
    "%matplotlib inline"
   ]
  },
  {
   "cell_type": "markdown",
   "metadata": {},
   "source": [
    "### <font color=\"blue\"><i>Легкая часть</i></font>"
   ]
  },
  {
   "cell_type": "markdown",
   "metadata": {},
   "source": [
    "\n",
    "### Задача 1.\n",
    "\n",
    "Условие задачи в контесте, ссылка на который отправлена через бот.\n",
    "\n",
    "Продублируйте сюда написанный код и постройте требуемые графики, которые при необходимости можно доработать."
   ]
  },
  {
   "cell_type": "markdown",
   "metadata": {},
   "source": [
    "1)Напишите функцию uniform генерации случайных величин из равномерного распределения на отрезке \n",
    "[\n",
    "0\n",
    ",\n",
    "1\n",
    "]\n",
    "[0,1] с заданной точностью. Это можно сделать, записав случайную величину \n",
    "ξ\n",
    "∼\n",
    "U\n",
    "[\n",
    "0\n",
    ",\n",
    "1\n",
    "]\n",
    "ξ∼U[0,1] в двоичной системе системе счисления \n",
    "ξ\n",
    "=\n",
    "0\n",
    ",\n",
    "ξ\n",
    "1\n",
    "ξ\n",
    "2\n",
    "ξ\n",
    "3\n",
    ".\n",
    ".\n",
    ".\n",
    "ξ=0,ξ \n",
    "1\n",
    "​\n",
    " ξ \n",
    "2\n",
    "​\n",
    " ξ \n",
    "3\n",
    "​\n",
    " .... Тогда \n",
    "ξ\n",
    "i\n",
    "∼\n",
    "B\n",
    "e\n",
    "r\n",
    "n\n",
    "(\n",
    "1\n",
    "/\n",
    "2\n",
    ")\n",
    "ξ \n",
    "i\n",
    "​\n",
    " ∼Bern(1/2) и независимы в совокупности. Приближение заключается в том, что вместо генерации бесконечного количества \n",
    "ξ\n",
    "i\n",
    "ξ \n",
    "i\n",
    "​\n",
    "  мы полагаем \n",
    "ξ\n",
    "=\n",
    "0\n",
    ",\n",
    "ξ\n",
    "1\n",
    "ξ\n",
    "2\n",
    "ξ\n",
    "3\n",
    ".\n",
    ".\n",
    ".\n",
    "ξ\n",
    "n\n",
    "ξ=0,ξ \n",
    "1\n",
    "​\n",
    " ξ \n",
    "2\n",
    "​\n",
    " ξ \n",
    "3\n",
    "​\n",
    " ...ξ \n",
    "n\n",
    "​\n",
    " .\n",
    "\n",
    "Нужно реализовать функцию uniform так, чтобы она могла принимать на вход в качестве параметра size как число, так и объект tuple любой размерности, и возвращать объект numpy.array соответствующей размерности. Например, если size=(10, 1, 5), то функция должна вернуть объект размера \n",
    "10\n",
    "×\n",
    "1\n",
    "×\n",
    "5\n",
    "10×1×5. Кроме того, функцию coin можно вызвать только один раз, и, конечно же, не использовать какие-либо циклы. Аргумент precision отвечает за число \n",
    "n\n",
    "n. Не используйте np.vectorize, np.apply_along_axis, np.fromiter и подобные, это медленно и по сути является циклом."
   ]
  },
  {
   "cell_type": "code",
   "execution_count": 239,
   "metadata": {},
   "outputs": [],
   "source": [
    "import numpy as np\n",
    "import matplotlib.pyplot as plt\n",
    "\n",
    "# Закомментируйте строку ниже для запуска локально\n",
    "from coin import coin, uniform_pdf, norm_pdf, expon_pdf\n",
    "\n",
    "\n",
    "# Для запуска локально используйте:\n",
    "#\n",
    "# import scipy.stats as sps\n",
    "\n",
    "# coin = sps.bernoulli(p=0.5).rvs\n",
    "# uniform_pdf = sps.uniform.pdf\n",
    "# norm_pdf = sps.norm.pdf\n",
    "# expon_pdf = sps.expon.pdf\n",
    "\n",
    "def uniform(size=1, precision=30):\n",
    "    try:\n",
    "        x = np.sum(np.array(coin(np.prod(size)*precision)).reshape(*size, -1) / np.power(2, np.arange(1, precision+1)), axis=len(size))\n",
    "    except:\n",
    "        x= np.sum(np.array(coin(np.prod(size)*precision)).reshape(size, -1) / np.power(2, np.arange(1, precision+1)), axis=1)\n",
    "    return x\n",
    "\n",
    "def plot_uniform_density(size=200):\n",
    "    grid = np.linspace(-0.25, 1.25, 500)\n",
    "    fig, ax = plt.subplots()\n",
    "    ksi = uniform(size=size)\n",
    "    ax.scatter(ksi, [0]*size)\n",
    "    plt.xlabel('x')\n",
    "    plt.ylabel('y')\n",
    "    plt.title('t')\n",
    "    \n",
    "    ax.hist(ksi, bins=10, alpha=0.4, density=True)\n",
    "    plt.xlabel('x')\n",
    "    plt.ylabel('y')\n",
    "    plt.title('t')\n",
    "    \n",
    "    ax.plot(grid, uniform_pdf(grid), alpha=0.4)\n",
    "    plt.xlabel('x')\n",
    "    plt.ylabel('y')\n",
    "    plt.title('t')\n",
    "    \n",
    "    return plt.gcf()\n",
    "\n",
    "def plot_uniform_different_precision(size=100):\n",
    "    # определите график размера 15 на 3\n",
    "    fig, ax = plt.subplots(figsize=(15, 3))\n",
    "\n",
    "    for i, precision in enumerate([1, 2, 3, 5, 10, 30]):\n",
    "        plt.subplot(3, 2, i + 1)\n",
    "        plt.suptitle('h')\n",
    "\n",
    "        plt.scatter(\n",
    "            uniform(size=size, precision=precision),\n",
    "          np.zeros(size),\n",
    "          alpha=0.4\n",
    "        )\n",
    "\n",
    "        plt.yticks([])\n",
    "        if i < 4:\n",
    "            plt.xticks([])\n",
    "\n",
    "    return plt.gcf()\n",
    "\n",
    "\n",
    "def normal(size=1, loc=0, scale=1, precision=30):\n",
    "    # z_0 = \\cos (2 \\pi \\varphi) \\sqrt {-2 \\ln r},\n",
    "# z_1 = \\sin (2 \\pi \\varphi) \\sqrt {-2 \\ln r}.\n",
    "    z_o = np.cos(2*np.pi*uniform(size=1, precision=precision))\n",
    "    \n",
    "    return\n",
    "\n",
    "\n",
    "def plot_normal_density(size=200):\n",
    "    return plt.gcf()\n",
    "\n",
    "\n",
    "def expon(size=1, lambd=1, precision=30):\n",
    "    return\n",
    "\n",
    "\n",
    "def plot_expon_density(size=100):\n",
    "    return plt.gcf()"
   ]
  },
  {
   "cell_type": "code",
   "execution_count": 256,
   "metadata": {},
   "outputs": [
    {
     "data": {
      "image/png": "[encoded data removed]",
      "text/plain": [
       "<Figure size 1500x300 with 6 Axes>"
      ]
     },
     "metadata": {},
     "output_type": "display_data"
    }
   ],
   "source": [
    "fig, ax = plt.subplots(figsize=(15, 3))\n",
    "\n",
    "for i, precision in enumerate([1, 2, 3, 5, 10, 30]):\n",
    "    plt.subplot(3, 2, i + 1)\n",
    "\n",
    "    plt.scatter(\n",
    "        uniform(size=size, precision=precision),\n",
    "      np.zeros(size),\n",
    "      alpha=0.4\n",
    "    )\n",
    "\n",
    "    plt.yticks([])\n",
    "    if i < 4:\n",
    "        plt.xticks([])"
   ]
  },
  {
   "cell_type": "markdown",
   "metadata": {},
   "source": [
    "**Выводы:**"
   ]
  },
  {
   "cell_type": "markdown",
   "metadata": {},
   "source": [
    "..."
   ]
  },
  {
   "cell_type": "markdown",
   "metadata": {},
   "source": [
    "---\n",
    "\n",
    "### Задача 2.\n",
    "\n",
    "Рассмотрим распределение Коши с плотностью\n",
    "$$p(x) = \\frac{1}{\\pi(1+x^2)}$$\n",
    "для $x\\in\\mathbb{R}$, которое известно своими тяжелыми хвостами. Иначе говоря, плотность убывает медленно при $x \\to \\infty$. Сравните, например, с нормальным или экспоненциальным распределениями. В частности, из-за этого у распределения Коши даже не существует математического ожидания.\n",
    "\n",
    "За распределение Коши отвечает класс <a target=\"_black\" href=\"https://docs.scipy.org/doc/scipy/reference/generated/scipy.stats.cauchy.html\">`scipy.stats.cauchy`</a>.\n",
    "\n",
    "**1.** Визуализируйте на одном графики плотности нормального распределения и распределения Коши. Что можно сказать?"
   ]
  },
  {
   "cell_type": "code",
   "execution_count": null,
   "metadata": {},
   "outputs": [],
   "source": []
  },
  {
   "cell_type": "markdown",
   "metadata": {},
   "source": [
    "**2.** Повторите эксперимент с <a href=\"https://miptstats.github.io/courses/ad_fivt/lec3_LLN.html\">занятия</a> про закон больших чисел для распределения Коши. Выполняется ли закон? "
   ]
  },
  {
   "cell_type": "code",
   "execution_count": null,
   "metadata": {},
   "outputs": [],
   "source": []
  },
  {
   "cell_type": "markdown",
   "metadata": {},
   "source": [
    "**3.** Аналогичным образом проведите эксперимент по изучению зависимости *выборочной* медианы от размера выборки. Медиану по выборке можно посчитать с помощью <a target=\"_blank\" href=\"https://numpy.org/doc/stable/reference/generated/numpy.median.html\">`np.median`</a>."
   ]
  },
  {
   "cell_type": "code",
   "execution_count": null,
   "metadata": {},
   "outputs": [],
   "source": []
  },
  {
   "cell_type": "markdown",
   "metadata": {},
   "source": [
    "**Вывод:**"
   ]
  },
  {
   "cell_type": "markdown",
   "metadata": {},
   "source": [
    "..."
   ]
  },
  {
   "cell_type": "markdown",
   "metadata": {},
   "source": [
    "### <font color=\"orange\"><i>Сложная часть</i></font>"
   ]
  },
  {
   "cell_type": "markdown",
   "metadata": {},
   "source": [
    "### Задача 3.\n",
    "\n",
    "Перед выполнением этой задачи настоятельно рекомендуется посмотреть <a href=\"https://miptstats.github.io/courses/ad_fivt/lec3_LLN.html\">ноутбук</a> с лекции про закон больших чисел.\n",
    "\n",
    "На практике не редко возникает вопрос &mdash; **сколько времени потребуется на сбор данных, чтобы оценить среднее с достаточной точностью**. Для ответа на этот вопрос можно использовать различные теоретические оценки, в частности, неравенство Чебышева.\n",
    "\n",
    "Другой способ &mdash; смоделировать большое количество выборок.\n",
    "Возьмем в качестве меры отклонения от среднего *среднее значение модуля отклонения от среднего*, то есть\n",
    "$$F(n) = \\frac{1}{K}\\sum\\limits_{j=1}^{K} \\left| S_{nj} - a \\right|,$$\n",
    "где $a$ &mdash; математическое ожидание элемента выборки, $S_{nj}$ &mdash; *выборочное* среднее $n$ элементов в $j$-й выборке, а $K$ &mdash; общее количество выборок.\n",
    "\n",
    "**1.** Рассмотрим распределения $Bern(a)$ для $a=0.5$. Пусть для нас допустимо отклонение на 0.02, иначе говоря при *истинном* среднем 0.5 мы считаем достаточно точными значения *выборочного* среднего от 0.48 до 0.52. Тогда в качестве *приближения* необходимого размера выборок можно взять наименьшее значение $n$, при котором $F(n) \\leqslant 0.02$.\n",
    "\n",
    "Реализуйте данный эксперимен для $K=500$  и найдите значение $n$. Визуализируйте зависимость $F(n)$ от $n$ в обычном и логарифмическом масштабах (по тем осям, по которым это имеет смысл).\n",
    "\n",
    "Для реализации без циклов стоит генерировать достаточно большие выборки и использовать функцию `np.where`."
   ]
  },
  {
   "cell_type": "code",
   "execution_count": null,
   "metadata": {},
   "outputs": [],
   "source": []
  },
  {
   "cell_type": "markdown",
   "metadata": {},
   "source": [
    "**2.** Повторите данный эксперимент для значений $a$ от 0.05 до 0.95 с шагом 0.05. Визуализируйте зависимость необходимого размера выборки $n$ от значения $a$.\n",
    "\n",
    "При реализации можно сделать цикл по значениям $a$."
   ]
  },
  {
   "cell_type": "code",
   "execution_count": null,
   "metadata": {},
   "outputs": [],
   "source": []
  },
  {
   "cell_type": "markdown",
   "metadata": {},
   "source": [
    "**Выводы:**"
   ]
  },
  {
   "cell_type": "markdown",
   "metadata": {},
   "source": [
    "..."
   ]
  }
 ],
 "metadata": {
  "kernelspec": {
   "display_name": "Python 3 (ipykernel)",
   "language": "python",
   "name": "python3"
  },
  "language_info": {
   "codemirror_mode": {
    "name": "ipython",
    "version": 3
   },
   "file_extension": ".py",
   "mimetype": "text/x-python",
   "name": "python",
   "nbconvert_exporter": "python",
   "pygments_lexer": "ipython3",
   "version": "3.9.13"
  }
 },
 "nbformat": 4,
 "nbformat_minor": 2
}
